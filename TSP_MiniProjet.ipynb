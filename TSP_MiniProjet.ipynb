{
  "nbformat": 4,
  "nbformat_minor": 0,
  "metadata": {
    "colab": {
      "name": "TSP-MiniProjet.ipynb",
      "provenance": [],
      "collapsed_sections": []
    },
    "kernelspec": {
      "name": "python3",
      "display_name": "Python 3"
    },
    "language_info": {
      "name": "python"
    }
  },
  "cells": [
    {
      "cell_type": "code",
      "source": [
        "import random\n",
        "import json\n",
        "\n",
        "class TspMiniProjet:\n",
        "    def __init__(self, wilayas = \"data.json\"):\n",
        "        f = open(wilayas)\n",
        "        data = json.load(f)\n",
        "        self.liste_tabou = []\n",
        "        self.villes = data[\"villes\"]\n",
        "        self.matrice = data[\"distances\"]\n",
        "        self.problem_size = len(self.matrice[0])\n",
        "\n",
        "    def distance(self, a , b):   \n",
        "        return self.matrice[a][b]\n",
        "    \n",
        "    def fit(self, solution):\n",
        "            distance_totale = 0.0\n",
        "            for i in range(self.problem_size - 1):\n",
        "                distance_totale += self.distance(solution[i],solution[i+1]) \n",
        "            return distance_totale + self.distance(solution[-1],solution[0]) \n",
        "    \n",
        "    def meilleur_voisinage(self, sol_ini):\n",
        "        best = sol_ini[:]\n",
        "        for i in range(0, self.problem_size - 1):\n",
        "            for j in range(0, self.problem_size - 1):\n",
        "                if j == i : continue\n",
        "                sol_tmp = sol_ini[:] \n",
        "                sol_tmp[i], sol_tmp[j] = sol_tmp[j], sol_tmp[i]\n",
        "                if self.fit(sol_tmp) < self.fit(best) and sol_tmp not in (self.liste_tabou):\n",
        "                    best = sol_tmp[:]\n",
        "                    self.liste_tabou.append(best)\n",
        "        return best\n",
        "\n",
        "    def solution(self , iterations = 500 , tabou_size = 1000):\n",
        "        s0 = [i for i in range(self.problem_size)]\n",
        "        random.shuffle(s0) \n",
        "        sol_tmp = s0[:]\n",
        "        self.liste_tabou.append(sol_tmp)\n",
        "\n",
        "        while iterations > 0:\n",
        "            if len(self.liste_tabou) > tabou_size:\n",
        "                self.liste_tabou.pop(0) \n",
        "            sol_tmp = self.meilleur_voisinage(sol_tmp)[:]\n",
        "            if self.fit(sol_tmp) < self.fit(s0):\n",
        "                s0 = sol_tmp[:]\n",
        "            iterations -= 1\n",
        "\n",
        "        return [self.villes[idx] for idx in s0],self.fit(s0)\n",
        "        \n",
        "\n",
        "print(TspMiniProjet().solution())\n",
        "  \n",
        "\n",
        "\n",
        "\n"
      ],
      "metadata": {
        "colab": {
          "base_uri": "https://localhost:8080/"
        },
        "id": "0l8k8nutk23G",
        "outputId": "e4105da9-6811-43e1-de33-6c5036140c9b"
      },
      "execution_count": 27,
      "outputs": [
        {
          "output_type": "stream",
          "name": "stdout",
          "text": [
            "(['Oum el Bouaghi', 'Constantine', 'Skikda', 'Guelma', 'Annaba', 'El Tarf', 'Souk Ahras', 'Illizi', 'Tamanrasset', 'Adrar', 'Tindouf', 'Béchar', 'Naama', 'Tlemcen', 'Aïn Temouchent', 'Sidi Bel Abbès', 'Oran', 'Chlef', 'Bouira', 'Bejaïa', 'Tizi Ouzou', 'Boumerdes', 'Algiers', 'Blida', 'Médéa', 'Tipasa', 'Aïn Defla', 'Tissemsilt', 'Tiaret', 'Relizane', 'Mostaganem', 'Mascara', 'Saïda', 'El Bayadh', 'Ghardaïa', 'Ouargla', 'El Oued', 'Tébessa', 'Khenchela', 'Biskra', 'Laghouat', 'Djelfa', 'M’Sila', 'Bordj Bou Arreridj', 'Sétif', 'Jijel', 'Mila', 'Batna'], 8417.183200000003)\n"
          ]
        }
      ]
    }
  ]
}